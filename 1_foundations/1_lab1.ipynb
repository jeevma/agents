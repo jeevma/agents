{
 "cells": [
  {
   "cell_type": "markdown",
   "metadata": {},
   "source": [
    "# Welcome to the start of your adventure in Agentic AI"
   ]
  },
  {
   "cell_type": "markdown",
   "metadata": {},
   "source": [
    "<table style=\"margin: 0; text-align: left; width:100%\">\n",
    "    <tr>\n",
    "        <td style=\"width: 150px; height: 150px; vertical-align: middle;\">\n",
    "            <img src=\"../assets/stop.png\" width=\"150\" height=\"150\" style=\"display: block;\" />\n",
    "        </td>\n",
    "        <td>\n",
    "            <h2 style=\"color:#ff7800;\">Are you ready for action??</h2>\n",
    "            <span style=\"color:#ff7800;\">Have you completed all the setup steps in the <a href=\"../setup/\">setup</a> folder?<br/>\n",
    "            Have you checked out the guides in the <a href=\"../guides/01_intro.ipynb\">guides</a> folder?<br/>\n",
    "            Well in that case, you're ready!!\n",
    "            </span>\n",
    "        </td>\n",
    "    </tr>\n",
    "</table>"
   ]
  },
  {
   "cell_type": "markdown",
   "metadata": {},
   "source": [
    "<table style=\"margin: 0; text-align: left; width:100%\">\n",
    "    <tr>\n",
    "        <td style=\"width: 150px; height: 150px; vertical-align: middle;\">\n",
    "            <img src=\"../assets/tools.png\" width=\"150\" height=\"150\" style=\"display: block;\" />\n",
    "        </td>\n",
    "        <td>\n",
    "            <h2 style=\"color:#00bfff;\">This code is a live resource - keep an eye out for my updates</h2>\n",
    "            <span style=\"color:#00bfff;\">I push updates regularly. As people ask questions or have problems, I add more examples and improve explanations. As a result, the code below might not be identical to the videos, as I've added more steps and better comments. Consider this like an interactive book that accompanies the lectures.<br/><br/>\n",
    "            I try to send emails regularly with important updates related to the course. You can find this in the 'Announcements' section of Udemy in the left sidebar. You can also choose to receive my emails via your Notification Settings in Udemy. I'm respectful of your inbox and always try to add value with my emails!\n",
    "            </span>\n",
    "        </td>\n",
    "    </tr>\n",
    "</table>"
   ]
  },
  {
   "cell_type": "markdown",
   "metadata": {},
   "source": [
    "### And please do remember to contact me if I can help\n",
    "\n",
    "And I love to connect: https://www.linkedin.com/in/eddonner/\n",
    "\n",
    "\n",
    "### New to Notebooks like this one? Head over to the guides folder!\n",
    "\n",
    "Just to check you've already added the Python and Jupyter extensions to Cursor, if not already installed:\n",
    "- Open extensions (View >> extensions)\n",
    "- Search for python, and when the results show, click on the ms-python one, and Install it if not already installed\n",
    "- Search for jupyter, and when the results show, click on the Microsoft one, and Install it if not already installed  \n",
    "Then View >> Explorer to bring back the File Explorer.\n",
    "\n",
    "And then:\n",
    "1. Click where it says \"Select Kernel\" near the top right, and select the option called `.venv (Python 3.12.9)` or similar, which should be the first choice or the most prominent choice. You may need to choose \"Python Environments\" first.\n",
    "2. Click in each \"cell\" below, starting with the cell immediately below this text, and press Shift+Enter to run\n",
    "3. Enjoy!\n",
    "\n",
    "After you click \"Select Kernel\", if there is no option like `.venv (Python 3.12.9)` then please do the following:  \n",
    "1. On Mac: From the Cursor menu, choose Settings >> VS Code Settings (NOTE: be sure to select `VSCode Settings` not `Cursor Settings`);  \n",
    "On Windows PC: From the File menu, choose Preferences >> VS Code Settings(NOTE: be sure to select `VSCode Settings` not `Cursor Settings`)  \n",
    "2. In the Settings search bar, type \"venv\"  \n",
    "3. In the field \"Path to folder with a list of Virtual Environments\" put the path to the project root, like C:\\Users\\username\\projects\\agents (on a Windows PC) or /Users/username/projects/agents (on Mac or Linux).  \n",
    "And then try again.\n",
    "\n",
    "Having problems with missing Python versions in that list? Have you ever used Anaconda before? It might be interferring. Quit Cursor, bring up a new command line, and make sure that your Anaconda environment is deactivated:    \n",
    "`conda deactivate`  \n",
    "And if you still have any problems with conda and python versions, it's possible that you will need to run this too:  \n",
    "`conda config --set auto_activate_base false`  \n",
    "and then from within the Agents directory, you should be able to run `uv python list` and see the Python 3.12 version."
   ]
  },
  {
   "cell_type": "code",
   "execution_count": 1,
   "metadata": {},
   "outputs": [],
   "source": [
    "# First let's do an import\n",
    "from dotenv import load_dotenv\n"
   ]
  },
  {
   "cell_type": "code",
   "execution_count": 2,
   "metadata": {},
   "outputs": [
    {
     "data": {
      "text/plain": [
       "True"
      ]
     },
     "execution_count": 2,
     "metadata": {},
     "output_type": "execute_result"
    }
   ],
   "source": [
    "# Next it's time to load the API keys into environment variables\n",
    "\n",
    "load_dotenv(override=True)"
   ]
  },
  {
   "cell_type": "markdown",
   "metadata": {},
   "source": [
    "### Wait, did that just output `False`??\n",
    "\n",
    "If so, the most common reason is that you didn't save your `.env` file after adding the key! Be sure to have saved.\n",
    "\n",
    "Also, make sure the `.env` file is named precisely `.env` and is in the project root directory (`agents`)"
   ]
  },
  {
   "cell_type": "code",
   "execution_count": 3,
   "metadata": {},
   "outputs": [
    {
     "name": "stdout",
     "output_type": "stream",
     "text": [
      "OpenAI API Key exists and begins sk-C7LXE\n"
     ]
    }
   ],
   "source": [
    "# Check the keys\n",
    "# Note - if you'd like to use an LLM other than OpenAI, please check out the Guide 9 on AI APIs and Ollama in the guides folder\n",
    "\n",
    "import os\n",
    "openai_api_key = os.getenv('OPENAI_API_KEY')\n",
    "\n",
    "if openai_api_key:\n",
    "    print(f\"OpenAI API Key exists and begins {openai_api_key[:8]}\")\n",
    "else:\n",
    "    print(\"OpenAI API Key not set - please head to the troubleshooting guide in the setup folder\")\n",
    "    \n"
   ]
  },
  {
   "cell_type": "code",
   "execution_count": 4,
   "metadata": {},
   "outputs": [],
   "source": [
    "# And now - the all important import statement\n",
    "# If you get an import error - head over to troubleshooting guide\n",
    "\n",
    "from openai import OpenAI"
   ]
  },
  {
   "cell_type": "code",
   "execution_count": 5,
   "metadata": {},
   "outputs": [],
   "source": [
    "# And now we'll create an instance of the OpenAI class\n",
    "# If you're not sure what it means to create an instance of a class - head over to the guides folder!\n",
    "# If you get a NameError - head over to the guides folder to learn about NameErrors\n",
    "\n",
    "openai = OpenAI()"
   ]
  },
  {
   "cell_type": "code",
   "execution_count": 6,
   "metadata": {},
   "outputs": [],
   "source": [
    "# Create a list of messages in the familiar OpenAI format\n",
    "\n",
    "messages = [{\"role\": \"user\", \"content\": \"What is 2+2?\"}]"
   ]
  },
  {
   "cell_type": "code",
   "execution_count": 7,
   "metadata": {},
   "outputs": [
    {
     "name": "stdout",
     "output_type": "stream",
     "text": [
      "2 + 2 equals 4.\n"
     ]
    }
   ],
   "source": [
    "# And now call it! Any problems, head to the troubleshooting guide\n",
    "# This uses GPT 4.1 nano, the incredibly cheap model\n",
    "\n",
    "response = openai.chat.completions.create(\n",
    "    model=\"gpt-4.1-nano\",\n",
    "    messages=messages\n",
    ")\n",
    "\n",
    "print(response.choices[0].message.content)\n"
   ]
  },
  {
   "cell_type": "code",
   "execution_count": 8,
   "metadata": {},
   "outputs": [],
   "source": [
    "# And now - let's ask for a question:\n",
    "\n",
    "question = \"Please propose a hard, challenging question to assess someone's IQ. Respond only with the question.\"\n",
    "messages = [{\"role\": \"user\", \"content\": question}]\n"
   ]
  },
  {
   "cell_type": "code",
   "execution_count": 9,
   "metadata": {},
   "outputs": [
    {
     "name": "stdout",
     "output_type": "stream",
     "text": [
      "If a cube’s side length is tripled, by what factor does its volume increase?\n"
     ]
    }
   ],
   "source": [
    "# ask it - this uses GPT 4.1 mini, still cheap but more powerful than nano\n",
    "\n",
    "response = openai.chat.completions.create(\n",
    "    model=\"gpt-4.1-mini\",\n",
    "    messages=messages\n",
    ")\n",
    "\n",
    "question = response.choices[0].message.content\n",
    "\n",
    "print(question)\n"
   ]
  },
  {
   "cell_type": "code",
   "execution_count": 10,
   "metadata": {},
   "outputs": [],
   "source": [
    "# form a new messages list\n",
    "messages = [{\"role\": \"user\", \"content\": question}]\n"
   ]
  },
  {
   "cell_type": "code",
   "execution_count": 11,
   "metadata": {},
   "outputs": [
    {
     "name": "stdout",
     "output_type": "stream",
     "text": [
      "If a cube’s side length is tripled, the volume increases by a factor of:\n",
      "\n",
      "\\[\n",
      "\\text{New volume} = (3 \\times \\text{original side length})^3 = 3^3 \\times (\\text{original side length})^3 = 27 \\times \\text{original volume}\n",
      "\\]\n",
      "\n",
      "**Answer:** The volume increases by a factor of **27**.\n"
     ]
    }
   ],
   "source": [
    "# Ask it again\n",
    "\n",
    "response = openai.chat.completions.create(\n",
    "    model=\"gpt-4.1-mini\",\n",
    "    messages=messages\n",
    ")\n",
    "\n",
    "answer = response.choices[0].message.content\n",
    "print(answer)\n"
   ]
  },
  {
   "cell_type": "code",
   "execution_count": 12,
   "metadata": {},
   "outputs": [
    {
     "data": {
      "text/markdown": [
       "If a cube’s side length is tripled, the volume increases by a factor of:\n",
       "\n",
       "\\[\n",
       "\\text{New volume} = (3 \\times \\text{original side length})^3 = 3^3 \\times (\\text{original side length})^3 = 27 \\times \\text{original volume}\n",
       "\\]\n",
       "\n",
       "**Answer:** The volume increases by a factor of **27**."
      ],
      "text/plain": [
       "<IPython.core.display.Markdown object>"
      ]
     },
     "metadata": {},
     "output_type": "display_data"
    }
   ],
   "source": [
    "from IPython.display import Markdown, display\n",
    "\n",
    "display(Markdown(answer))\n",
    "\n"
   ]
  },
  {
   "cell_type": "markdown",
   "metadata": {},
   "source": [
    "# Congratulations!\n",
    "\n",
    "That was a small, simple step in the direction of Agentic AI, with your new environment!\n",
    "\n",
    "Next time things get more interesting..."
   ]
  },
  {
   "cell_type": "markdown",
   "metadata": {},
   "source": [
    "<table style=\"margin: 0; text-align: left; width:100%\">\n",
    "    <tr>\n",
    "        <td style=\"width: 150px; height: 150px; vertical-align: middle;\">\n",
    "            <img src=\"../assets/exercise.png\" width=\"150\" height=\"150\" style=\"display: block;\" />\n",
    "        </td>\n",
    "        <td>\n",
    "            <h2 style=\"color:#ff7800;\">Exercise</h2>\n",
    "            <span style=\"color:#ff7800;\">Now try this commercial application:<br/>\n",
    "            First ask the LLM to pick a business area that might be worth exploring for an Agentic AI opportunity.<br/>\n",
    "            Then ask the LLM to present a pain-point in that industry - something challenging that might be ripe for an Agentic solution.<br/>\n",
    "            Finally have 3 third LLM call propose the Agentic AI solution.\n",
    "            </span>\n",
    "        </td>\n",
    "    </tr>\n",
    "</table>"
   ]
  },
  {
   "cell_type": "code",
   "execution_count": 13,
   "metadata": {},
   "outputs": [
    {
     "name": "stdout",
     "output_type": "stream",
     "text": [
      "One promising business area for an Agentic AI opportunity is **autonomous supply chain management and logistics**.\n",
      "\n",
      "### Why this area?\n",
      "- **Complex, dynamic environment:** Supply chains involve numerous interdependent variables—inventory levels, demand forecasting, transportation routes, supplier performance—that change rapidly.\n",
      "- **High impact from optimization:** Small improvements in efficiency can lead to substantial cost savings, faster delivery, and better customer satisfaction.\n",
      "- **Need for proactive decision-making:** Agentic AI can autonomously negotiate with suppliers, reroute shipments dynamically due to disruptions, and adjust inventory policies without constant human intervention.\n",
      "- **Data richness:** The sector generates vast amounts of real-time data, suitable for AI to learn, adapt, and improve over time.\n",
      "- **Growing demand for automation:** Companies are increasingly investing in AI-driven solutions to reduce reliance on manual processes and increase resilience.\n",
      "  \n",
      "### Potential AI capabilities:\n",
      "- Autonomous negotiation and contract management with suppliers\n",
      "- Real-time multi-modal transportation optimization\n",
      "- Predictive maintenance scheduling for logistics assets\n",
      "- Dynamic inventory allocation across warehouses\n",
      "- Risk assessment and mitigation planning proactively\n",
      "\n",
      "Building an Agentic AI platform that orchestrates these functions end-to-end could transform supply chain operations and create significant competitive advantage for users.\n"
     ]
    }
   ],
   "source": [
    "# First create the messages:\n",
    "\n",
    "idea = \"Suggest a business area that might be worth exploring for an Agentic AI opportunity\"\n",
    "messages = [{\"role\": \"user\", \"content\": idea }]\n",
    "\n",
    "# Then make the first call:\n",
    "response = openai.chat.completions.create(\n",
    "    model=\"gpt-4.1-mini\",\n",
    "    messages=messages\n",
    ")\n",
    "\n",
    "suggestion = response.choices[0].message.content\n",
    "print(suggestion)"
   ]
  },
  {
   "cell_type": "code",
   "execution_count": 14,
   "metadata": {},
   "outputs": [
    {
     "name": "stdout",
     "output_type": "stream",
     "text": [
      "The key pain point in autonomous supply chain management and logistics that Agentic AI can address is **the complexity and dynamism of managing numerous interdependent variables in real-time, which currently requires constant human oversight and is prone to inefficiencies and delays**.\n",
      "\n",
      "More specifically, these pain points include:\n",
      "\n",
      "- **Handling dynamic disruptions:** Supply chains face unpredictable events such as supplier delays, transportation breakdowns, or demand spikes. Current systems lack the proactive, autonomous decision-making to immediately mitigate these issues without human intervention.\n",
      "- **Inefficient manual coordination:** Negotiations with suppliers, optimization of routes, and inventory adjustments are often manual or semi-automated, leading to slower responses and suboptimal decisions.\n",
      "- **Fragmented data utilization:** Vast amounts of real-time data are underutilized due to lack of integrated AI systems that can learn from it continuously and coordinate across different parts of the supply chain.\n",
      "- **Scalability and adaptability challenges:** Traditional systems struggle to adapt quickly to changes at scale, limiting responsiveness and resilience.\n",
      "- **Cost and resource waste:** Without autonomous optimization, companies face higher operational costs, delivery delays, and increased inventory holding or shortages.\n",
      "\n",
      "In summary, Agentic AI can relieve the pain of manual, slow, and fragmented decision-making in a complex, fast-changing environment by enabling proactive, autonomous, data-driven orchestration across the supply chain.\n"
     ]
    }
   ],
   "source": [
    "\n",
    "messages = [{\"role\": \"user\", \"content\": \"What is the pain point in \" + suggestion }]\n",
    "\n",
    "# Then make the first call:\n",
    "response = openai.chat.completions.create(\n",
    "    model=\"gpt-4.1-mini\",\n",
    "    messages=messages\n",
    ")\n",
    "\n",
    "painpoint = response.choices[0].message.content\n",
    "print(painpoint)"
   ]
  },
  {
   "cell_type": "code",
   "execution_count": 15,
   "metadata": {},
   "outputs": [
    {
     "name": "stdout",
     "output_type": "stream",
     "text": [
      "Certainly! Here’s a comprehensive solution highlighting how Agentic AI can address the key pain points in autonomous supply chain management and logistics:\n",
      "\n",
      "---\n",
      "\n",
      "### Solution: Implementing Agentic AI for Autonomous Supply Chain Orchestration\n",
      "\n",
      "**Overview:**  \n",
      "Agentic AI systems, equipped with multi-agent architectures and reinforcement learning capabilities, can autonomously manage complex supply chains by continuously sensing, learning, and acting upon real-time data across all supply chain nodes. This leads to proactive, self-optimizing, and resilient operations with minimal human intervention.\n",
      "\n",
      "---\n",
      "\n",
      "### How Agentic AI Addresses the Key Pain Points\n",
      "\n",
      "1. **Handling Dynamic Disruptions**\n",
      "\n",
      "- **Autonomous Real-Time Monitoring:** Agentic AI continuously monitors data streams from suppliers, transport fleets, inventory levels, and market demand.\n",
      "- **Predictive Disruption Detection:** Uses advanced forecasting and anomaly detection models to identify potential delays, breakdowns, or demand surges before they escalate.\n",
      "- **Proactive Mitigation:** Agents autonomously negotiate contingency plans such as alternate routing, supplier substitutions, or demand reshaping without waiting for human instructions.\n",
      "- **Adaptive Learning:** The system learns from past disruptions, improving its prediction and response strategies over time.\n",
      "\n",
      "2. **Inefficient Manual Coordination**\n",
      "\n",
      "- **Multi-Agent Negotiation:** Intelligent agents represent different stakeholders (suppliers, transporters, warehouses) and autonomously negotiate contracts, pricing, and delivery terms dynamically.\n",
      "- **Automated Route and Inventory Optimization:** Agents continuously evaluate numerous routing and inventory configurations using reinforcement learning to select optimal decisions balancing cost, speed, and risk.\n",
      "- **Real-Time Decision Making:** Reduces delays caused by manual approvals and coordination by enabling immediate, data-driven actions.\n",
      "\n",
      "3. **Fragmented Data Utilization**\n",
      "\n",
      "- **Integrated Data Fabric:** Agentic AI integrates disparate data sources (IoT sensors, ERP systems, market analytics) into a unified knowledge graph or digital twin of the supply chain.\n",
      "- **Continuous Learning Loop:** Agents continuously learn from the integrated data environment, updating predictive models and optimization strategies.\n",
      "- **Cross-Domain Coordination:** Enables coherent decision-making that considers cross-functional constraints and opportunities—for example, balancing procurement costs with logistics capacity.\n",
      "\n",
      "4. **Scalability and Adaptability Challenges**\n",
      "\n",
      "- **Decentralized Agent Networks:** Utilize distributed agents each responsible for localized decisions, coordinated by a central supervisory agent to scale efficiently across regions and product lines.\n",
      "- **Dynamic Reconfiguration:** Agents adapt their strategies as new nodes, channels, or market conditions emerge without requiring extensive human redesign.\n",
      "- **Robustness to Change:** The system can rapidly adapt to new regulations, supplier relationships, or technologies through modular agent upgrades.\n",
      "\n",
      "5. **Cost and Resource Waste**\n",
      "\n",
      "- **Cost-Efficient Optimization:** By continually optimizing supply chain parameters (inventory levels, transport routes, supplier mix), costs related to holding inventory, expedited shipping, and wastage are minimized.\n",
      "- **Waste Reduction through Visibility:** Early disruption detection prevents wasteful overproduction or emergency sourcing.\n",
      "- **Resource Allocation:** Agentic AI optimizes labor and equipment deployment dynamically, improving utilization rates and reducing downtime.\n",
      "\n",
      "---\n",
      "\n",
      "### Example Implementation Steps\n",
      "\n",
      "1. **Develop a Digital Twin:** Build a comprehensive digital twin of the supply chain capturing all relevant variables, suppliers, logistics routes, inventory, and demand forecasts.\n",
      "\n",
      "2. **Deploy Multi-Agent System:** Implement specialized agents for functions such as procurement, transportation, demand forecasting, and inventory management. Equip them with communication protocols for collaboration and negotiation.\n",
      "\n",
      "3. **Integrate Real-Time Data Feeds:** Connect IoT sensors, ERP, CRM, and external sources (weather, geopolitical risks) into a unified data pipeline feeding the agents.\n",
      "\n",
      "4. **Train with Reinforcement Learning:** Use simulation environments to train agents to optimize multi-objective goals under real-world constraints and disruptions.\n",
      "\n",
      "5. **Pilot Autonomous Decision-Making:** Gradually roll out autonomous negotiation and routing optimizations in controlled settings to build trust and ensure safety before scaling.\n",
      "\n",
      "6. **Continuous Improvement:** Establish feedback loops where agents receive performance metrics and human operator inputs to refine strategies iteratively.\n",
      "\n",
      "---\n",
      "\n",
      "### Benefits\n",
      "\n",
      "- Near-zero human intervention for routine operational decisions.\n",
      "- Faster, better-informed responses to disruptions.\n",
      "- Significant cost reductions in inventory, transportation, and labor.\n",
      "- Enhanced supply chain resilience and agility.\n",
      "- Scalable and adaptable architecture ready for future expansion.\n",
      "\n",
      "---\n",
      "\n",
      "**In summary, Agentic AI transforms the traditional supply chain by embedding autonomous, intelligent agents that proactively manage complexity, optimize operations in real-time, and coordinate dynamically across the ecosystem—delivering superior efficiency and resilience in a fast-changing environment.**\n"
     ]
    }
   ],
   "source": [
    "\n",
    "solution = \"Give me a solution to \" + painpoint\n",
    "messages = [{\"role\": \"user\", \"content\": solution }]\n",
    "\n",
    "# Then make the first call:\n",
    "response = openai.chat.completions.create(\n",
    "    model=\"gpt-4.1-mini\",\n",
    "    messages=messages\n",
    ")\n",
    "\n",
    "solution = response.choices[0].message.content\n",
    "print(solution)"
   ]
  },
  {
   "cell_type": "markdown",
   "metadata": {},
   "source": []
  }
 ],
 "metadata": {
  "kernelspec": {
   "display_name": ".venv",
   "language": "python",
   "name": "python3"
  },
  "language_info": {
   "codemirror_mode": {
    "name": "ipython",
    "version": 3
   },
   "file_extension": ".py",
   "mimetype": "text/x-python",
   "name": "python",
   "nbconvert_exporter": "python",
   "pygments_lexer": "ipython3",
   "version": "3.12.0"
  }
 },
 "nbformat": 4,
 "nbformat_minor": 2
}
